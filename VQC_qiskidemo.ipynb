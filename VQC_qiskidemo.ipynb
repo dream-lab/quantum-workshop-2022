{
 "cells": [
  {
   "cell_type": "code",
   "execution_count": 1,
   "id": "9f2db66b-6c79-4eef-8467-b2564314ddb5",
   "metadata": {},
   "outputs": [
    {
     "name": "stderr",
     "output_type": "stream",
     "text": [
      "<frozen importlib._bootstrap>:219: RuntimeWarning: scipy._lib.messagestream.MessageStream size changed, may indicate binary incompatibility. Expected 56 from C header, got 64 from PyObject\n"
     ]
    }
   ],
   "source": [
    "import numpy as np\n",
    "\n",
    "# Importing standard Qiskit libraries\n",
    "from qiskit import QuantumCircuit, transpile, BasicAer, IBMQ\n",
    "from qiskit.tools.jupyter import *\n",
    "from qiskit.visualization import *\n",
    "from ibm_quantum_widgets import *\n",
    "from qiskit.providers.aer import QasmSimulator\n",
    "\n",
    "# Loading your IBM Quantum account(s)\n",
    "provider = IBMQ.load_account()"
   ]
  },
  {
   "cell_type": "code",
   "execution_count": 41,
   "id": "3284f96e-f635-464f-9578-0ff89290175c",
   "metadata": {},
   "outputs": [
    {
     "data": {
      "text/plain": [
       "[<IBMQSimulator('ibmq_qasm_simulator') from IBMQ(hub='ibm-q-internal', group='deployed', project='default')>,\n",
       " <IBMQBackend('ibmq_armonk') from IBMQ(hub='ibm-q-internal', group='deployed', project='default')>,\n",
       " <IBMQBackend('ibmq_montreal') from IBMQ(hub='ibm-q-internal', group='deployed', project='default')>,\n",
       " <IBMQBackend('ibmq_toronto') from IBMQ(hub='ibm-q-internal', group='deployed', project='default')>,\n",
       " <IBMQBackend('ibmq_bogota') from IBMQ(hub='ibm-q-internal', group='deployed', project='default')>,\n",
       " <IBMQBackend('ibmq_kolkata') from IBMQ(hub='ibm-q-internal', group='deployed', project='default')>,\n",
       " <IBMQBackend('ibmq_mumbai') from IBMQ(hub='ibm-q-internal', group='deployed', project='default')>,\n",
       " <IBMQBackend('ibmq_lima') from IBMQ(hub='ibm-q-internal', group='deployed', project='default')>,\n",
       " <IBMQBackend('ibmq_belem') from IBMQ(hub='ibm-q-internal', group='deployed', project='default')>,\n",
       " <IBMQBackend('ibmq_quito') from IBMQ(hub='ibm-q-internal', group='deployed', project='default')>,\n",
       " <IBMQBackend('ibmq_guadalupe') from IBMQ(hub='ibm-q-internal', group='deployed', project='default')>,\n",
       " <IBMQBackend('ibmq_brooklyn') from IBMQ(hub='ibm-q-internal', group='deployed', project='default')>,\n",
       " <IBMQBackend('ibmq_jakarta') from IBMQ(hub='ibm-q-internal', group='deployed', project='default')>,\n",
       " <IBMQBackend('ibmq_manila') from IBMQ(hub='ibm-q-internal', group='deployed', project='default')>,\n",
       " <IBMQBackend('ibm_hanoi') from IBMQ(hub='ibm-q-internal', group='deployed', project='default')>,\n",
       " <IBMQBackend('ibm_lagos') from IBMQ(hub='ibm-q-internal', group='deployed', project='default')>,\n",
       " <IBMQBackend('ibm_cairo') from IBMQ(hub='ibm-q-internal', group='deployed', project='default')>,\n",
       " <IBMQBackend('ibm_auckland') from IBMQ(hub='ibm-q-internal', group='deployed', project='default')>,\n",
       " <IBMQBackend('ibm_perth') from IBMQ(hub='ibm-q-internal', group='deployed', project='default')>,\n",
       " <IBMQBackend('ibm_washington') from IBMQ(hub='ibm-q-internal', group='deployed', project='default')>]"
      ]
     },
     "execution_count": 41,
     "metadata": {},
     "output_type": "execute_result"
    }
   ],
   "source": [
    "#provider = IBMQ.get_provider(hub='ibm-q-internal', group='deployed', project='default')\n",
    "#provider.backends()"
   ]
  },
  {
   "cell_type": "code",
   "execution_count": 2,
   "id": "986795a8-304c-4452-b918-2d6d94561dbb",
   "metadata": {},
   "outputs": [
    {
     "data": {
      "text/plain": [
       "[<IBMQBackend('ibmq_manila') from IBMQ(hub='ibm-q-community', group='iisc-hackathon', project='main')>]"
      ]
     },
     "execution_count": 2,
     "metadata": {},
     "output_type": "execute_result"
    }
   ],
   "source": [
    "\n",
    "# get the least-busy backend at IBM and run the quantum circuit there\n",
    "from qiskit.providers.ibmq import least_busy\n",
    "from qiskit.tools.monitor import job_monitor\n",
    "#backend = least_busy(provider.backends(filters=lambda b: b.configuration().n_qubits >= 2 and b.status().operational==True and not b.configuration().simulator))\n",
    "#print(backend)\n",
    "\n",
    "provider = IBMQ.get_provider(hub='ibm-q-community', group='iisc-hackathon', project='main')\n",
    "provider.backends()"
   ]
  },
  {
   "cell_type": "code",
   "execution_count": 35,
   "id": "4f934c23-69c7-49aa-b0d9-5c6759cd3d4f",
   "metadata": {},
   "outputs": [],
   "source": [
    "from qiskit import BasicAer\n",
    "from qiskit.utils import QuantumInstance, algorithm_globals\n",
    "from qiskit.algorithms.optimizers import COBYLA\n",
    "from qiskit.circuit.library import TwoLocal\n",
    "from qiskit_machine_learning.algorithms import VQC\n",
    "from qiskit_machine_learning.datasets import wine\n",
    "from qiskit_machine_learning.circuit.library import RawFeatureVector\n",
    "from qiskit.circuit.library import RealAmplitudes, ZZFeatureMap, ZFeatureMap, NLocal\n",
    "from qiskit import QuantumCircuit\n",
    "from qiskit.circuit import Parameter\n",
    "\n",
    "from sklearn.metrics import classification_report, confusion_matrix\n",
    "from time import time\n",
    "seed = 10599"
   ]
  },
  {
   "cell_type": "code",
   "execution_count": 22,
   "id": "3e8b66d5-9c05-4d88-90e0-1d110cac2fb6",
   "metadata": {},
   "outputs": [
    {
     "name": "stdout",
     "output_type": "stream",
     "text": [
      "statevector_simulator\n"
     ]
    }
   ],
   "source": [
    "simulator = BasicAer.get_backend('statevector_simulator')\n",
    "print(simulator)"
   ]
  },
  {
   "cell_type": "code",
   "execution_count": 46,
   "id": "fb49ae26-9bf8-425a-bb7d-adadbd6f96df",
   "metadata": {},
   "outputs": [
    {
     "data": {
      "image/png": "[encoded data removed]",
      "text/plain": [
       "<Figure size 432x288 with 1 Axes>"
      ]
     },
     "metadata": {
      "needs_background": "light"
     },
     "output_type": "display_data"
    },
    {
     "name": "stdout",
     "output_type": "stream",
     "text": [
      "[[2.63893783 4.33539786]\n",
      " [4.0212386  5.84336234]\n",
      " [0.62831853 5.96902604]\n",
      " [4.71238898 5.46637122]\n",
      " [2.136283   3.95840674]\n",
      " [4.0212386  5.52920307]\n",
      " [6.09468975 3.45575192]\n",
      " [3.39292007 5.59203492]\n",
      " [6.22035345 3.95840674]\n",
      " [5.15221195 4.20973416]\n",
      " [4.83805269 1.00530965]\n",
      " [0.18849556 0.31415927]\n",
      " [1.69646003 1.0681415 ]\n",
      " [1.69646003 0.9424778 ]\n",
      " [1.00530965 4.96371639]\n",
      " [1.75929189 1.00530965]\n",
      " [5.59203492 0.87964594]\n",
      " [1.82212374 1.31946891]\n",
      " [2.51327412 4.20973416]\n",
      " [1.13097336 5.90619419]\n",
      " [5.52920307 5.52920307]\n",
      " [3.76991118 0.31415927]\n",
      " [1.88495559 6.03185789]\n",
      " [5.96902604 0.9424778 ]\n",
      " [3.33008821 4.0212386 ]\n",
      " [4.0212386  1.50796447]\n",
      " [6.22035345 0.        ]\n",
      " [0.69115038 3.20442451]\n",
      " [5.0893801  3.95840674]\n",
      " [1.57079633 6.03185789]\n",
      " [3.0787608  1.31946891]\n",
      " [0.62831853 0.12566371]\n",
      " [5.0893801  2.26194671]\n",
      " [3.39292007 4.08407045]\n",
      " [3.01592895 2.63893783]\n",
      " [5.34070751 5.78053048]\n",
      " [4.96371639 0.56548668]\n",
      " [4.46106157 3.83274304]\n",
      " [5.59203492 4.33539786]\n",
      " [3.0787608  4.0212386 ]]\n",
      "[[1. 0.]\n",
      " [1. 0.]\n",
      " [1. 0.]\n",
      " [1. 0.]\n",
      " [1. 0.]\n",
      " [1. 0.]\n",
      " [1. 0.]\n",
      " [1. 0.]\n",
      " [1. 0.]\n",
      " [1. 0.]\n",
      " [1. 0.]\n",
      " [1. 0.]\n",
      " [1. 0.]\n",
      " [1. 0.]\n",
      " [1. 0.]\n",
      " [1. 0.]\n",
      " [1. 0.]\n",
      " [1. 0.]\n",
      " [1. 0.]\n",
      " [1. 0.]\n",
      " [0. 1.]\n",
      " [0. 1.]\n",
      " [0. 1.]\n",
      " [0. 1.]\n",
      " [0. 1.]\n",
      " [0. 1.]\n",
      " [0. 1.]\n",
      " [0. 1.]\n",
      " [0. 1.]\n",
      " [0. 1.]\n",
      " [0. 1.]\n",
      " [0. 1.]\n",
      " [0. 1.]\n",
      " [0. 1.]\n",
      " [0. 1.]\n",
      " [0. 1.]\n",
      " [0. 1.]\n",
      " [0. 1.]\n",
      " [0. 1.]\n",
      " [0. 1.]]\n",
      "40\n",
      "[[0.37699112 3.58141563]\n",
      " [4.52389342 5.34070751]\n",
      " [4.90088454 1.63362818]\n",
      " [1.82212374 3.58141563]\n",
      " [4.46106157 4.96371639]\n",
      " [2.136283   0.81681409]\n",
      " [5.02654825 5.0893801 ]\n",
      " [5.84336234 3.51858377]\n",
      " [5.2150438  4.1469023 ]\n",
      " [3.95840674 5.65486678]\n",
      " [5.34070751 0.31415927]\n",
      " [2.38761042 3.33008821]\n",
      " [5.52920307 2.95309709]\n",
      " [2.136283   2.95309709]\n",
      " [2.89026524 4.08407045]\n",
      " [1.88495559 4.46106157]\n",
      " [5.78053048 2.63893783]\n",
      " [3.64424748 4.08407045]\n",
      " [5.59203492 1.82212374]\n",
      " [0.06283185 0.9424778 ]]\n",
      "[[1. 0.]\n",
      " [1. 0.]\n",
      " [1. 0.]\n",
      " [1. 0.]\n",
      " [1. 0.]\n",
      " [1. 0.]\n",
      " [1. 0.]\n",
      " [1. 0.]\n",
      " [1. 0.]\n",
      " [1. 0.]\n",
      " [0. 1.]\n",
      " [0. 1.]\n",
      " [0. 1.]\n",
      " [0. 1.]\n",
      " [0. 1.]\n",
      " [0. 1.]\n",
      " [0. 1.]\n",
      " [0. 1.]\n",
      " [0. 1.]\n",
      " [0. 1.]]\n",
      "20\n"
     ]
    }
   ],
   "source": [
    "from qiskit_machine_learning.datasets import ad_hoc_data\n",
    "\n",
    "feature_dim = 2\n",
    "train_data, train_labels, test_data, test_labels = ad_hoc_data(\n",
    "    training_size=20,\n",
    "    test_size=10,\n",
    "    n=feature_dim,\n",
    "    gap=0.3,\n",
    "    plot_data=True\n",
    ")\n",
    "print(train_data)\n",
    "print(train_labels)\n",
    "print(len(train_data))\n",
    "print(test_data)\n",
    "print(test_labels)\n",
    "print(len(test_data))\n",
    "\n",
    "#extra_test_data = ad_hoc_data(sample_total, 10, n=feature_dim)\n",
    "#datapoints, class_to_label = split_dataset_to_data_and_labels(extra_test_data)\n",
    "#print(class_to_label)"
   ]
  },
  {
   "cell_type": "code",
   "execution_count": null,
   "id": "b99e6278-ce85-48d8-b163-76b658ab6172",
   "metadata": {},
   "outputs": [
    {
     "name": "stderr",
     "output_type": "stream",
     "text": [
      "/opt/conda/lib/python3.8/site-packages/qiskit/utils/run_circuits.py:745: UserWarning: seed_simulator is not a recognized runtime option and may be ignored by the backend.\n",
      "  return backend.run(circuits, **run_kwargs)\n"
     ]
    },
    {
     "name": "stdout",
     "output_type": "stream",
     "text": [
      "training time for VQC :  29.651851892471313\n"
     ]
    }
   ],
   "source": [
    "feature_map = ZZFeatureMap(feature_dimension=feature_dim, reps=1)\n",
    "ansatz = TwoLocal(feature_dim, ['ry', 'rz'], 'cz', reps=1)\n",
    "vqc = VQC(feature_map=feature_map,\n",
    "                 ansatz=ansatz,\n",
    "                 optimizer=COBYLA(maxiter=1),\n",
    "                 quantum_instance=QuantumInstance(backend=backend,shots=1,\n",
    "                                                 seed_simulator=seed,\n",
    "                                                 seed_transpiler=seed)\n",
    "         )\n",
    "start_time = time()\n",
    "vqc.fit(train_data, train_labels)\n",
    "end_time = time()\n",
    "duration = end_time - start_time\n",
    "print(\"training time for VQC : \", duration)\n",
    "result = vqc.predict(test_data)\n"
   ]
  },
  {
   "cell_type": "code",
   "execution_count": 37,
   "id": "21ccaa3b-2d66-41cd-9c8b-6c9b59e58ac2",
   "metadata": {},
   "outputs": [],
   "source": [
    "result2=np.delete(result,1,1)\n",
    "test_labels2=np.delete(test_labels,1,1)"
   ]
  },
  {
   "cell_type": "code",
   "execution_count": 39,
   "id": "2ac60573-7cc8-4779-b22e-877337034d96",
   "metadata": {},
   "outputs": [
    {
     "name": "stdout",
     "output_type": "stream",
     "text": [
      "              precision    recall  f1-score   support\n",
      "\n",
      "           0       1.00      0.70      0.82        10\n",
      "           1       0.77      1.00      0.87        10\n",
      "\n",
      "   micro avg       0.85      0.85      0.85        20\n",
      "   macro avg       0.88      0.85      0.85        20\n",
      "weighted avg       0.88      0.85      0.85        20\n",
      " samples avg       0.85      0.85      0.85        20\n",
      "\n",
      "[[10  0]\n",
      " [ 3  7]]\n"
     ]
    }
   ],
   "source": [
    "print(classification_report(test_labels,result))\n",
    "print(confusion_matrix(test_labels2,result2))"
   ]
  },
  {
   "cell_type": "code",
   "execution_count": null,
   "id": "6c8e7fee-d1c2-417d-88da-7838b87a71cf",
   "metadata": {},
   "outputs": [],
   "source": [
    "more_test_data = sample_ad_hoc_data(sample_total, 10, n=feature_dim)\n",
    "more_datapoints, _ = split_dataset_to_data_and_labels(more_test_data)\n",
    "\n",
    "predicted_probabilities, predicted_labels = vqc.predict(datapoints[0])\n",
    "\n",
    "print('Prediction from more_datapoints set:')\n",
    "print(f'  ground truth: {map_label_to_class_name(more_datapoints[1], vqc.label_to_class)}')\n",
    "print(f'  prediction:   {map_label_to_class_name(predicted_labels, vqc.label_to_class)}')\n",
    "print(f'  success rate: {100*np.count_nonzero(predi"
   ]
  }
 ],
 "metadata": {
  "kernelspec": {
   "display_name": "Python 3 (ipykernel)",
   "language": "python",
   "name": "python3"
  },
  "language_info": {
   "codemirror_mode": {
    "name": "ipython",
    "version": 3
   },
   "file_extension": ".py",
   "mimetype": "text/x-python",
   "name": "python",
   "nbconvert_exporter": "python",
   "pygments_lexer": "ipython3",
   "version": "3.8.13"
  },
  "widgets": {
   "application/vnd.jupyter.widget-state+json": {
    "state": {
     "02d67e87d8bf4c9aae6247dc503d00ba": {
      "model_module": "@jupyter-widgets/base",
      "model_module_version": "1.2.0",
      "model_name": "LayoutModel",
      "state": {
       "margin": "0px 0px 0px 37px",
       "width": "600px"
      }
     },
     "0a990ee77334463dabf8d26949ad4a0a": {
      "model_module": "@jupyter-widgets/base",
      "model_module_version": "1.2.0",
      "model_name": "LayoutModel",
      "state": {
       "grid_area": "right",
       "padding": "0px 0px 0px 0px",
       "width": "70px"
      }
     },
     "24bd8b81a55d4a93bb44f0f9703a3694": {
      "model_module": "@jupyter-widgets/controls",
      "model_module_version": "1.5.0",
      "model_name": "DescriptionStyleModel",
      "state": {
       "description_width": ""
      }
     },
     "4166fc83acca49cbbdf632dafc92c196": {
      "model_module": "@jupyter-widgets/controls",
      "model_module_version": "1.5.0",
      "model_name": "GridBoxModel",
      "state": {
       "children": [
        "IPY_MODEL_5cbc823e2113407f965ef4f148fdffae"
       ],
       "layout": "IPY_MODEL_4e17b91f7ae744f289c00b4496944fd4"
      }
     },
     "478967dc935a4e628b7a2bd6bcbb023c": {
      "model_module": "@jupyter-widgets/controls",
      "model_module_version": "1.5.0",
      "model_name": "DescriptionStyleModel",
      "state": {
       "description_width": ""
      }
     },
     "4c1f82a950a54bb5aa9ad9a90140d520": {
      "model_module": "@jupyter-widgets/controls",
      "model_module_version": "1.5.0",
      "model_name": "HTMLModel",
      "state": {
       "layout": "IPY_MODEL_d03195bd73e74fd8b6e3f2af20c88c90",
       "style": "IPY_MODEL_93a848ff155041e7b29e5b34c5ec375c",
       "value": "<p style='font-family: IBM Plex Sans, Arial, Helvetica, sans-serif; font-size: 20px; font-weight: medium;'>Circuit Properties</p>"
      }
     },
     "4e17b91f7ae744f289c00b4496944fd4": {
      "model_module": "@jupyter-widgets/base",
      "model_module_version": "1.2.0",
      "model_name": "LayoutModel",
      "state": {
       "grid_template_areas": "\n                                       \". . . . right \"\n                                        ",
       "grid_template_columns": "20% 20% 20% 20% 20%",
       "width": "100%"
      }
     },
     "5cbc823e2113407f965ef4f148fdffae": {
      "model_module": "@jupyter-widgets/controls",
      "model_module_version": "1.5.0",
      "model_name": "ButtonModel",
      "state": {
       "button_style": "primary",
       "description": "Clear",
       "layout": "IPY_MODEL_0a990ee77334463dabf8d26949ad4a0a",
       "style": "IPY_MODEL_5ed383859d024ff19bbbc07f77659a48"
      }
     },
     "5e2ae51ecc4b4838a2503d8d19969f47": {
      "model_module": "@jupyter-widgets/controls",
      "model_module_version": "1.5.0",
      "model_name": "DescriptionStyleModel",
      "state": {
       "description_width": ""
      }
     },
     "5ed383859d024ff19bbbc07f77659a48": {
      "model_module": "@jupyter-widgets/controls",
      "model_module_version": "1.5.0",
      "model_name": "ButtonStyleModel",
      "state": {}
     },
     "61dfb1a39da446d9ad96406c9afaf08d": {
      "model_module": "@jupyter-widgets/controls",
      "model_module_version": "1.5.0",
      "model_name": "HBoxModel",
      "state": {
       "children": [
        "IPY_MODEL_bfbf52832cbe43d38611371a25a9f5ac",
        "IPY_MODEL_eaca824171a645459b2934f6598f1c02",
        "IPY_MODEL_a34dc36686b9441eaf5347a3fd52d394",
        "IPY_MODEL_d6a87e5875be46239dff4f6df40c7b93",
        "IPY_MODEL_7ada589da1f94d73bb449151854499e6"
       ],
       "layout": "IPY_MODEL_02d67e87d8bf4c9aae6247dc503d00ba"
      }
     },
     "6be762ba19e24fc886e75ffae55b9aa0": {
      "model_module": "@jupyter-widgets/controls",
      "model_module_version": "1.5.0",
      "model_name": "DescriptionStyleModel",
      "state": {
       "description_width": ""
      }
     },
     "7ada589da1f94d73bb449151854499e6": {
      "model_module": "@jupyter-widgets/controls",
      "model_module_version": "1.5.0",
      "model_name": "HTMLModel",
      "state": {
       "layout": "IPY_MODEL_d58bea553f3c452593bcc07f300f248d",
       "style": "IPY_MODEL_eba08c18171a47d9b4f6e7391eded8cc",
       "value": "<h5>Message</h5>"
      }
     },
     "82a0b452e5dc47238086b18a7f02ec79": {
      "model_module": "@jupyter-widgets/base",
      "model_module_version": "1.2.0",
      "model_name": "LayoutModel",
      "state": {
       "width": "70px"
      }
     },
     "93a848ff155041e7b29e5b34c5ec375c": {
      "model_module": "@jupyter-widgets/controls",
      "model_module_version": "1.5.0",
      "model_name": "DescriptionStyleModel",
      "state": {
       "description_width": ""
      }
     },
     "9754887c138448a5811de64377d89745": {
      "model_module": "@jupyter-widgets/base",
      "model_module_version": "1.2.0",
      "model_name": "LayoutModel",
      "state": {
       "width": "190px"
      }
     },
     "98fc71df86d5435fa46b3faed477bc2d": {
      "model_module": "@jupyter-widgets/base",
      "model_module_version": "1.2.0",
      "model_name": "LayoutModel",
      "state": {
       "width": "95px"
      }
     },
     "9d39b1e060294276b8424dad1f996afe": {
      "model_module": "@jupyter-widgets/base",
      "model_module_version": "1.2.0",
      "model_name": "LayoutModel",
      "state": {
       "width": "145px"
      }
     },
     "a34dc36686b9441eaf5347a3fd52d394": {
      "model_module": "@jupyter-widgets/controls",
      "model_module_version": "1.5.0",
      "model_name": "HTMLModel",
      "state": {
       "layout": "IPY_MODEL_98fc71df86d5435fa46b3faed477bc2d",
       "style": "IPY_MODEL_6be762ba19e24fc886e75ffae55b9aa0",
       "value": "<h5>Status</h5>"
      }
     },
     "bfbf52832cbe43d38611371a25a9f5ac": {
      "model_module": "@jupyter-widgets/controls",
      "model_module_version": "1.5.0",
      "model_name": "HTMLModel",
      "state": {
       "layout": "IPY_MODEL_9754887c138448a5811de64377d89745",
       "style": "IPY_MODEL_24bd8b81a55d4a93bb44f0f9703a3694",
       "value": "<h5>Job ID</h5>"
      }
     },
     "d03195bd73e74fd8b6e3f2af20c88c90": {
      "model_module": "@jupyter-widgets/base",
      "model_module_version": "1.2.0",
      "model_name": "LayoutModel",
      "state": {
       "margin": "0px 0px 10px 0px"
      }
     },
     "d58bea553f3c452593bcc07f300f248d": {
      "model_module": "@jupyter-widgets/base",
      "model_module_version": "1.2.0",
      "model_name": "LayoutModel",
      "state": {}
     },
     "d6a87e5875be46239dff4f6df40c7b93": {
      "model_module": "@jupyter-widgets/controls",
      "model_module_version": "1.5.0",
      "model_name": "HTMLModel",
      "state": {
       "layout": "IPY_MODEL_82a0b452e5dc47238086b18a7f02ec79",
       "style": "IPY_MODEL_5e2ae51ecc4b4838a2503d8d19969f47",
       "value": "<h5>Queue</h5>"
      }
     },
     "eaca824171a645459b2934f6598f1c02": {
      "model_module": "@jupyter-widgets/controls",
      "model_module_version": "1.5.0",
      "model_name": "HTMLModel",
      "state": {
       "layout": "IPY_MODEL_9d39b1e060294276b8424dad1f996afe",
       "style": "IPY_MODEL_478967dc935a4e628b7a2bd6bcbb023c",
       "value": "<h5>Backend</h5>"
      }
     },
     "eba08c18171a47d9b4f6e7391eded8cc": {
      "model_module": "@jupyter-widgets/controls",
      "model_module_version": "1.5.0",
      "model_name": "DescriptionStyleModel",
      "state": {
       "description_width": ""
      }
     }
    },
    "version_major": 2,
    "version_minor": 0
   }
  }
 },
 "nbformat": 4,
 "nbformat_minor": 5
}
