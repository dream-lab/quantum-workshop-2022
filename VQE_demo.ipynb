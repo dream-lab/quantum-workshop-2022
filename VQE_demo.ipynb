{
 "cells": [
  {
   "cell_type": "markdown",
   "id": "b66f8cae-e165-4aa9-ad58-407f1dbc1cac",
   "metadata": {},
   "source": [
    "# Finding minimum/maximum eigenvalues using VQE"
   ]
  },
  {
   "cell_type": "markdown",
   "id": "04592b18-6719-4daf-b7c2-2fd8fb3c8622",
   "metadata": {},
   "source": [
    "Many problems in Mathematics, Physics and Chemistry require the estimation of the minimum or the maximum eigenvalues of a system. Classically, for very large systems, variational forms have been in use to derive them. Let us say we have been given an operator (matrix) $L$, whose minimum eigenvalue we are interested in. \n",
    "\n",
    "We start off with an initial parametrized good guess (ansatz) $\\left| \\psi (\\theta) \\right\\rangle$. The expectation of this operator with respect to this ansatz $E = \\left\\langle L \\right\\rangle = \\left\\langle \\psi (\\theta)\\right| L \\left| \\psi (\\theta) \\right\\rangle$ is then calculated. An optimizer is then used to find the optimal parameters that minimizes (maximizes) this expectation value. The variational form ensures that \n",
    "\n",
    "$$ \\lambda _{min} \\leq \\left\\langle \\psi (\\theta)\\right| L \\left| \\psi (\\theta) \\right\\rangle.$$\n",
    "\n",
    "A perfect guess would be when the ansatz is the minimum eigenvector. That would give us $E = \\lambda _{min}$, the minimum eigenvalue. "
   ]
  },
  {
   "cell_type": "markdown",
   "id": "76461b22-00b6-4f62-bb18-18300fbe5096",
   "metadata": {},
   "source": [
    "For implementation in a Quantum computer the operator is expressed as a sum of Pauli operators, $Z, X, Y$ and $I$. Let us say, we want to find the minimum eigenvalue of the matrix $$ A = \\left[\\begin{array}{cc} 2 & 3 \\\\ 3 & 6 \\\\  \n",
    "\\end{array}\\right]$$. \n",
    "\n",
    "Now $A$ could be written as a sum of Pauli operators as follows.\n",
    "$$A = -2Z + 4I + 3X$$\n",
    "\n",
    "The expectation of $A$, $\\left\\langle A \\right\\rangle$, can be expressed as \n",
    "$$ \\left\\langle A \\right\\rangle = -2\\left\\langle Z \\right\\rangle + 4 + 3 \\left\\langle X \\right\\rangle $$\n"
   ]
  },
  {
   "cell_type": "markdown",
   "id": "b6915522-09a9-44f7-813a-0aced5bbb043",
   "metadata": {},
   "source": [
    "This problem can be solved using a single qubit system, as our matrix is of size 2×2. We will create our ansatz by applying the 𝑈 gate to a ||0⟩. The 𝑈 gate requires 3 parameters. More on 𝑈 gate can be found in the following link.\n",
    "\n",
    "https://qiskit.org/textbook/ch-states/single-qubit-gates.html#generalU\n",
    "\n",
    "Let us first find the eigenvalues of the matrix 𝐴 classically. "
   ]
  },
  {
   "cell_type": "code",
   "execution_count": 1,
   "id": "159344c5-48ff-4060-9ef4-40412076b8f2",
   "metadata": {},
   "outputs": [
    {
     "name": "stdout",
     "output_type": "stream",
     "text": [
      "[0.39444872 7.60555128]\n"
     ]
    }
   ],
   "source": [
    "import numpy as np\n",
    "\n",
    "AA = np.array([[2, 3],[3, 6]])\n",
    "print(np.linalg.eig(AA)[0])"
   ]
  },
  {
   "cell_type": "markdown",
   "id": "c138e96d-8fe5-4c89-a670-68bbd890e4fc",
   "metadata": {},
   "source": [
    "Let us first create our ansatz using the $U$ gate and some initial parameters."
   ]
  },
  {
   "cell_type": "code",
   "execution_count": 2,
   "id": "d3968d5b-9f02-4863-8046-0b53fd229135",
   "metadata": {},
   "outputs": [],
   "source": [
    "from qiskit import QuantumCircuit, Aer, execute\n",
    "from qiskit.visualization import plot_histogram"
   ]
  },
  {
   "cell_type": "code",
   "execution_count": 3,
   "id": "110f2367-851e-4274-835f-469197d153dd",
   "metadata": {},
   "outputs": [],
   "source": [
    "def var_circuit(params):\n",
    "    var_circ = QuantumCircuit(1)\n",
    "    var_circ.u(params[0], params[1], params[2],0)\n",
    "    return var_circ"
   ]
  },
  {
   "cell_type": "code",
   "execution_count": 5,
   "id": "1a513fae-bcc6-4d2b-976c-5f66d45efbd5",
   "metadata": {},
   "outputs": [
    {
     "data": {
      "image/png": "[encoded data removed]",
      "text/plain": [
       "<Figure size 193.726x84.28 with 1 Axes>"
      ]
     },
     "execution_count": 5,
     "metadata": {},
     "output_type": "execute_result"
    }
   ],
   "source": [
    "params = np.random.rand(3)\n",
    "pri_ckt = var_circuit(params)\n",
    "pri_ckt.draw('mpl')"
   ]
  },
  {
   "cell_type": "markdown",
   "id": "cce81426-316a-4bb7-9f16-5eaaad58ea41",
   "metadata": {},
   "source": [
    "## Estimating $\\left\\langle Z \\right\\rangle$"
   ]
  },
  {
   "cell_type": "markdown",
   "id": "8d8edc07-be60-4d6a-a014-41d00f507fbc",
   "metadata": {},
   "source": [
    "The result of this measurement can either be $\\left| 0 \\right\\rangle$ or $\\left| 1 \\right\\rangle$. Since both are eigenvectors of $Z$, with eigenvalues $1$ and $-1$, $\\left\\langle Z \\right\\rangle$ will be equal to the number of times we have $1$ minus the mumber of times we have $-1$. \n",
    "For example, let us say, $\\left| \\psi \\right\\rangle = c_1 \\left| 0 \\right\\rangle + c_2 \\left| 1 \\right\\rangle.$ Then,\n",
    "\n",
    "$$\\left\\langle \\psi \\right| Z \\left| \\psi \\right\\rangle = c_1 ^2 - c_2 ^2 $$\n",
    "\n",
    "\n",
    "$c_1^2$ is the probability of occurence of $\\left| 0 \\right\\rangle$ and $c_2^2$ is the probability of occurence of $\\left| 1 \\right\\rangle$. This is calculated as given below."
   ]
  },
  {
   "cell_type": "code",
   "execution_count": 6,
   "id": "63cd1c16-b82c-4c0a-b321-dbf7124d6738",
   "metadata": {},
   "outputs": [
    {
     "data": {
      "image/png": "[encoded data removed]",
      "text/plain": [
       "<Figure size 357.679x144.48 with 1 Axes>"
      ]
     },
     "execution_count": 6,
     "metadata": {},
     "output_type": "execute_result"
    }
   ],
   "source": [
    "Zmeas = pri_ckt.copy()\n",
    "Zmeas.measure_all()\n",
    "Zmeas.draw('mpl')"
   ]
  },
  {
   "cell_type": "code",
   "execution_count": 7,
   "id": "d8cf078a-09d7-4b10-80cc-bc5ec43fa624",
   "metadata": {},
   "outputs": [
    {
     "name": "stderr",
     "output_type": "stream",
     "text": [
      "<frozen importlib._bootstrap>:219: RuntimeWarning: scipy._lib.messagestream.MessageStream size changed, may indicate binary incompatibility. Expected 56 from C header, got 64 from PyObject\n"
     ]
    }
   ],
   "source": [
    "simulator = Aer.get_backend('qasm_simulator')"
   ]
  },
  {
   "cell_type": "code",
   "execution_count": 8,
   "id": "bdb4536c-fe1e-4a1d-a9df-b63610d6678b",
   "metadata": {},
   "outputs": [
    {
     "name": "stdout",
     "output_type": "stream",
     "text": [
      "85 15\n",
      "0.7\n"
     ]
    }
   ],
   "source": [
    "result = execute(Zmeas, backend = simulator, shots = 100).result()\n",
    "counts = result.get_counts(Zmeas)\n",
    "total_counts = counts['0'] + counts['1']\n",
    "print(counts['0'], counts['1'])\n",
    "zz = counts['0'] - counts['1']\n",
    "zz = zz / total_counts\n",
    "print(zz)"
   ]
  },
  {
   "cell_type": "markdown",
   "id": "db40e1a1-736f-48d3-a97f-4ea7e720e8f7",
   "metadata": {},
   "source": [
    "## Estimating $\\left\\langle X \\right\\rangle$"
   ]
  },
  {
   "cell_type": "markdown",
   "id": "cabe1de1-307c-4a34-8082-06b4903d09d3",
   "metadata": {},
   "source": [
    "In a Quantum computer measurements are always performed in the $Z$ computational basis. $\\left\\langle X \\right\\rangle$ can be estimated by first expressing $X$ in the form $HZH$ using the Hadamard gates $H$. That would give us the following.\n",
    "\n",
    "$$ \\left\\langle\\psi\\right| X\\left| \\psi\\right\\rangle = \\left\\langle \\psi\\right| HZH \\left| \\psi\\right\\rangle$$\n",
    "$$  = \\left\\langle \\psi H \\right| Z \\left| H\\psi\\right\\rangle$$\n",
    "\n",
    "This is equivalent to finding $\\left\\langle Z \\right\\rangle$ after operating an extra Hadamard gate on the ansatz. This is as given below. "
   ]
  },
  {
   "cell_type": "code",
   "execution_count": 9,
   "id": "3a585b42-c25a-4b97-954d-9c381e11f7d8",
   "metadata": {},
   "outputs": [
    {
     "data": {
      "image/png": "[encoded data removed]",
      "text/plain": [
       "<Figure size 417.879x144.48 with 1 Axes>"
      ]
     },
     "execution_count": 9,
     "metadata": {},
     "output_type": "execute_result"
    }
   ],
   "source": [
    "Xmeas = pri_ckt.copy()\n",
    "Xmeas.h(0)\n",
    "Xmeas.measure_all()\n",
    "Xmeas.draw('mpl')"
   ]
  },
  {
   "cell_type": "code",
   "execution_count": 10,
   "id": "5d556168-9ab2-45ca-9112-7dcf5e864c2c",
   "metadata": {},
   "outputs": [
    {
     "name": "stdout",
     "output_type": "stream",
     "text": [
      "83 17\n",
      "0.66\n"
     ]
    }
   ],
   "source": [
    "result = execute(Xmeas, backend = simulator, shots = 100).result()\n",
    "counts = result.get_counts(Xmeas)\n",
    "total_counts = counts['0'] + counts['1']\n",
    "print(counts['0'], counts['1'])\n",
    "xx = counts['0'] - counts['1']\n",
    "xx = xx / total_counts\n",
    "print(xx)"
   ]
  },
  {
   "cell_type": "markdown",
   "id": "a9b8afc2-a478-4e49-b3f8-ce77d5f9b48a",
   "metadata": {},
   "source": [
    "## Overall expectation value of the operator"
   ]
  },
  {
   "cell_type": "code",
   "execution_count": 11,
   "id": "8b02944e-ea8e-46ef-95ea-8f0dc2597a74",
   "metadata": {},
   "outputs": [
    {
     "name": "stdout",
     "output_type": "stream",
     "text": [
      "4.58\n"
     ]
    }
   ],
   "source": [
    "eig_value = -2*zz + 4 + 3*xx\n",
    "print(eig_value)"
   ]
  },
  {
   "cell_type": "markdown",
   "id": "f2545b1c-4728-4841-8c41-8de4d42ecbf0",
   "metadata": {},
   "source": [
    "We started off with a random set of paramaters and reached a value of $4.46$ using 100 shots for calculating the expectation. This is not close to the expected lowest eigenvalue of $0.39$. We will have to further optimize the parameters using an optimizer, which will form the classical part of the system. "
   ]
  },
  {
   "cell_type": "markdown",
   "id": "54fbedde-70cd-4669-831d-18985f40e191",
   "metadata": {},
   "source": [
    "### Overall expectation function\n",
    "Putting all the expectation value evaluations together under function."
   ]
  },
  {
   "cell_type": "code",
   "execution_count": 13,
   "id": "18e0a449-64d4-4fcc-aaaa-9b33d279a619",
   "metadata": {},
   "outputs": [],
   "source": [
    "def expectation_function(params, num_shots = 10000):\n",
    "    var_circ = QuantumCircuit(1)\n",
    "    var_circ.u(params[0], params[1], params[2],0)\n",
    "        \n",
    "    #### Z measurement #####\n",
    "    Zmeas = var_circ.copy()\n",
    "    Zmeas.measure_all()\n",
    "    result = execute(Zmeas, backend = simulator, shots = num_shots).result()\n",
    "    counts = result.get_counts(Zmeas)\n",
    "    total_counts = counts['0'] + counts['1']\n",
    "    zz = counts['0'] - counts['1']\n",
    "    zz = zz / total_counts\n",
    "    \n",
    "    #### X measurement #####\n",
    "    Xmeas = var_circ.copy()\n",
    "    Xmeas.h(0)\n",
    "    Xmeas.measure_all()\n",
    "    result = execute(Xmeas, backend = simulator, shots = num_shots).result()\n",
    "    counts = result.get_counts(Xmeas)\n",
    "    total_counts = counts['0'] + counts['1']\n",
    "    xx = counts['0'] - counts['1']\n",
    "    xx = xx / total_counts\n",
    "    \n",
    "    cost = -2*zz + 3*xx + 4\n",
    "    return cost"
   ]
  },
  {
   "cell_type": "markdown",
   "id": "d1a762aa-112f-4e96-b362-7730b6dc17a7",
   "metadata": {},
   "source": [
    "### Classical optimizer "
   ]
  },
  {
   "cell_type": "code",
   "execution_count": 14,
   "id": "6c1ff07f-4ad9-4669-83a0-2592823b3f77",
   "metadata": {},
   "outputs": [
    {
     "name": "stdout",
     "output_type": "stream",
     "text": [
      "\n",
      "   Normal return from subroutine COBYLA\n",
      "\n",
      "   NFVALS =   43   F = 4.770000E-01    MAXCV = 0.000000E+00\n",
      "   X = 1.082202E+00   3.052593E+00   1.354508E+00\n"
     ]
    }
   ],
   "source": [
    "from qiskit.algorithms.optimizers import COBYLA\n",
    "# import scipy as sp\n",
    "\n",
    "optimizer = COBYLA(maxiter=100, tol=0.0001, disp = True)\n",
    "params = np.random.rand(3)\n",
    "ret = optimizer.optimize(num_vars=3, objective_function=expectation_function, initial_point=params)"
   ]
  },
  {
   "cell_type": "code",
   "execution_count": 15,
   "id": "a2909cc8-8344-4171-ad6b-8353dec36611",
   "metadata": {},
   "outputs": [
    {
     "name": "stdout",
     "output_type": "stream",
     "text": [
      "(array([1.0822021 , 3.05259263, 1.35450813]), 0.4770000000000003, 43)\n",
      "0.4234\n"
     ]
    }
   ],
   "source": [
    "# The optimal parameters \n",
    "print(ret)\n",
    "exp = expectation_function(ret[0])\n",
    "print(exp)"
   ]
  },
  {
   "cell_type": "markdown",
   "id": "6a125bcf-b639-45ae-9bbc-414365497f05",
   "metadata": {},
   "source": [
    "We have reached $0.4$ which is almost equal to the value we wanted. To get the maximum eigenvalue, we will have to just negate the cost function. \n",
    "\n",
    "This methodology can be used to find the minimum eigenvalues of much bigger systems. We will try to find the smallest eigenvalue of the $4\\times4$ operator given by \n",
    "\n",
    "$$ L = 2XX $$\n",
    "\n",
    "Here a $XX = X\\otimes X$. \n",
    "\n",
    "Let us first find out the eigenvalues of the matrix $L$. "
   ]
  },
  {
   "cell_type": "code",
   "execution_count": 16,
   "id": "29f58b45-78b4-413a-964d-850900a38200",
   "metadata": {},
   "outputs": [
    {
     "name": "stdout",
     "output_type": "stream",
     "text": [
      "[ 2. -2.  2. -2.]\n"
     ]
    }
   ],
   "source": [
    "X = np.array([[0, 1],[1, 0]])\n",
    "XX = np.kron(X,X)\n",
    "L = 2*XX\n",
    "print(np.linalg.eig(L)[0])"
   ]
  },
  {
   "cell_type": "markdown",
   "id": "3d53af2b-2bf0-4183-812a-e5cf5ec77d48",
   "metadata": {},
   "source": [
    "Let us first create our ansatz. For creating the ansatz we will use a combination of $R_y$, $R_z$ and $CNOT$ (`CX`) gates as shown below. However, unlike in our previous example, these variational forms have to repeated several times for better results. "
   ]
  },
  {
   "cell_type": "code",
   "execution_count": 17,
   "id": "d90ca51c-c353-4634-b835-5db8b73dbb3b",
   "metadata": {},
   "outputs": [],
   "source": [
    "def var_form(params, depth):\n",
    "    var_circ = QuantumCircuit(2)\n",
    "    var_circ.ry(params[0], 0)\n",
    "    var_circ.rz(params[1], 0)\n",
    "    var_circ.ry(params[0], 1)\n",
    "    var_circ.rz(params[1], 1)\n",
    "        \n",
    "    for jj in range(depth):\n",
    "        var_circ.cx(0, 1)\n",
    "        var_circ.ry(params[0], 0)\n",
    "        var_circ.rz(params[1], 0)\n",
    "        var_circ.ry(params[0], 1)\n",
    "        var_circ.rz(params[1], 1)\n",
    "    \n",
    "    return var_circ       "
   ]
  },
  {
   "cell_type": "code",
   "execution_count": 18,
   "id": "8d6efc21-ad58-400c-9b44-298e2816a9ee",
   "metadata": {},
   "outputs": [
    {
     "data": {
      "image/png": "[encoded data removed]",
      "text/plain": [
       "<Figure size 748.652x144.48 with 1 Axes>"
      ]
     },
     "execution_count": 18,
     "metadata": {},
     "output_type": "execute_result"
    }
   ],
   "source": [
    "params = np.random.rand(2)\n",
    "depth = 3\n",
    "ckt = var_form(params, depth)\n",
    "ckt.draw('mpl')"
   ]
  },
  {
   "cell_type": "markdown",
   "id": "96c28cd8-feb4-41d8-893e-86670b351a80",
   "metadata": {},
   "source": [
    "We write down our expectation function now. Our operator has two $X$ Pauli matrices. We can convert them to the Z form by operating $H$ gates on both the qubits. For finding the expectation of $\\left\\langle ZZ \\right\\rangle$, we must remember the following.\n",
    "\\begin{equation}\n",
    "\\begin{aligned}\n",
    "ZZ\\left| 00 \\right\\rangle &= \\left| 00 \\right\\rangle \\\\\n",
    "ZZ\\left| 01 \\right\\rangle &= -\\left| 01 \\right\\rangle \\\\\n",
    "ZZ\\left| 10 \\right\\rangle &= -\\left| 10 \\right\\rangle \\\\\n",
    "ZZ\\left| 11 \\right\\rangle &= \\left| 11 \\right\\rangle \n",
    "\\end{aligned}\n",
    "\\end{equation}\n",
    "\n",
    "Thus \n",
    "$$\\left\\langle ZZ \\right\\rangle = \\textrm{#('00') + #('11') - #('01') - #('10')}$$"
   ]
  },
  {
   "cell_type": "code",
   "execution_count": 19,
   "id": "d8987260-d93a-4d3b-a492-8c64b06b6a4b",
   "metadata": {},
   "outputs": [],
   "source": [
    "def expectation_function2(params, num_shots = 10000):\n",
    "    var_circ = var_form(params, 2)\n",
    "    \n",
    "    #### XX measurement #####\n",
    "    Xmeas = var_circ.copy()\n",
    "    Xmeas.h(0)\n",
    "    Xmeas.h(1)\n",
    "    Xmeas.measure_all()\n",
    "    result = execute(Xmeas, backend = simulator, shots = num_shots).result()\n",
    "    counts = result.get_counts(Xmeas)\n",
    "    \n",
    "    list_bin = ['00','01','10','11']\n",
    "    for jj in list_bin:\n",
    "        if jj not in counts:\n",
    "            counts[jj] = 0\n",
    "    \n",
    "    total_counts = counts['00'] + counts['11'] + counts['10'] + counts['01']\n",
    "    xx = counts['00'] + counts['11'] - counts['10'] - counts['01'] \n",
    "    xx = xx / total_counts\n",
    "    \n",
    "    cost = 2*xx\n",
    "    return cost"
   ]
  },
  {
   "cell_type": "code",
   "execution_count": 22,
   "id": "c85a3204-1f10-4af0-90da-17682d0eabef",
   "metadata": {},
   "outputs": [
    {
     "name": "stdout",
     "output_type": "stream",
     "text": [
      "(array([1.61963371, 1.55474249]), -1.9988, 27)\n",
      "-1.998\n"
     ]
    }
   ],
   "source": [
    "optimizer = COBYLA(maxiter=100, tol=0.0001)\n",
    "params = np.random.rand(2)\n",
    "ret = optimizer.optimize(num_vars=2, objective_function=expectation_function2, initial_point=params)\n",
    "print(ret)\n",
    "exp = expectation_function2(ret[0])\n",
    "print(exp)"
   ]
  },
  {
   "cell_type": "markdown",
   "id": "7449b72a-4e15-47fa-a7fe-eeae5147ef0f",
   "metadata": {},
   "source": [
    "We have been able to get the minimum eigenvalue correctly here as well. \n",
    "\n",
    "As an exercise try finding the minimum and maximum eigenvalues of the following operator.\n",
    "\n",
    "$$ L = 2XX + 6IZ $$\n",
    "\n",
    "Use a variational form comprising of $R_y$, $R_z$ and `CX` gates."
   ]
  },
  {
   "cell_type": "markdown",
   "id": "67410960-4322-48d9-b111-48ee048367b9",
   "metadata": {},
   "source": [
    "### Solution to the above problem"
   ]
  },
  {
   "cell_type": "code",
   "execution_count": 24,
   "id": "8994683c-6d8f-404b-aad7-89cefea7dbb7",
   "metadata": {},
   "outputs": [
    {
     "name": "stdout",
     "output_type": "stream",
     "text": [
      "[ 6.32455532 -6.32455532  6.32455532 -6.32455532]\n"
     ]
    }
   ],
   "source": [
    "### Eigenvalues of L #####\n",
    "X = np.array([[0, 1],[1, 0]])\n",
    "Z = np.array([[1, 0],[0, -1]])\n",
    "I = np.array([[1, 0],[0, 1]])\n",
    "\n",
    "L = 2*np.kron(X,X) + 6*np.kron(I,Z)\n",
    "print(np.linalg.eig(L)[0])"
   ]
  },
  {
   "cell_type": "code",
   "execution_count": 25,
   "id": "b180f4a8-53fc-4c64-ab13-64236372800f",
   "metadata": {},
   "outputs": [],
   "source": [
    "def var_form_ryrz(params, depth):\n",
    "    var_circ = QuantumCircuit(2)\n",
    "    var_circ.ry(params[0], 0)\n",
    "    var_circ.rz(params[1], 0)\n",
    "    var_circ.ry(params[2], 1)\n",
    "    var_circ.rz(params[3], 1)    \n",
    "           \n",
    "    for jj in range(depth):\n",
    "        var_circ.cx(0, 1)\n",
    "        var_circ.ry(params[0], 0)\n",
    "        var_circ.rz(params[1], 0)\n",
    "        var_circ.ry(params[2], 1)\n",
    "        var_circ.rz(params[3], 1) \n",
    "            \n",
    "    return var_circ  "
   ]
  },
  {
   "cell_type": "code",
   "execution_count": 26,
   "id": "b0e61668-1620-41cb-8fa2-901a58c944a5",
   "metadata": {},
   "outputs": [],
   "source": [
    "def expectation_function3(params, num_shots = 10000):\n",
    "    var_circ = var_form_ryrz(params, 2)\n",
    "    \n",
    "    #### XX measurement #####\n",
    "    Xmeas = var_circ.copy()\n",
    "    Xmeas.h(0)\n",
    "    Xmeas.h(1)\n",
    "    Xmeas.measure_all()\n",
    "    result = execute(Xmeas, backend = simulator, shots = num_shots).result()\n",
    "    counts = result.get_counts(Xmeas)\n",
    "    \n",
    "    list_bin = ['00','01','10','11']\n",
    "    for jj in list_bin:\n",
    "        if jj not in counts:\n",
    "            counts[jj] = 0\n",
    "            \n",
    "    total_counts = counts['00'] + counts['11'] + counts['10'] + counts['01']\n",
    "    xx = counts['00'] + counts['11'] - counts['10'] - counts['01'] \n",
    "    xx = xx / total_counts\n",
    "    \n",
    "    #### IZ measurement #####\n",
    "    IZmeas = var_circ.copy()\n",
    "    IZmeas.measure_all()\n",
    "    result = execute(IZmeas, backend = simulator, shots = num_shots).result()\n",
    "    counts = result.get_counts(IZmeas)\n",
    "    for jj in list_bin:\n",
    "        if jj not in counts:\n",
    "            counts[jj] = 0\n",
    "    total_counts = counts['00'] + counts['11'] + counts['10'] + counts['01']\n",
    "    iz = counts['00'] - counts['11'] + counts['10'] - counts['01'] \n",
    "    iz = iz / total_counts\n",
    "    \n",
    "    cost = 2*xx + 6*iz\n",
    "    return cost"
   ]
  },
  {
   "cell_type": "code",
   "execution_count": 27,
   "id": "b083fe65-9f4b-4183-8dc1-8d83abf97aef",
   "metadata": {},
   "outputs": [
    {
     "name": "stdout",
     "output_type": "stream",
     "text": [
      "(array([ 1.27792754,  0.18277369,  0.84496105, -0.11899304]), -6.2692, 53)\n",
      "-6.284400000000001\n"
     ]
    }
   ],
   "source": [
    "optimizer = COBYLA(maxiter=100, tol=0.0001)\n",
    "params = np.random.rand(4)\n",
    "ret = optimizer.optimize(num_vars=4, objective_function=expectation_function3, initial_point=params)\n",
    "print(ret)\n",
    "exp = expectation_function3(ret[0])\n",
    "print(exp)"
   ]
  },
  {
   "cell_type": "markdown",
   "id": "17dd6b9f-c11f-473a-ae29-2481134d0a11",
   "metadata": {},
   "source": [
    "### Another problem"
   ]
  },
  {
   "cell_type": "markdown",
   "id": "abd2c96f-018b-4a60-8409-4ce362cfff31",
   "metadata": {},
   "source": [
    "$$ L = 2XI + 6IY $$\n",
    "\n",
    "Remember $Y = R_z(\\pi/2)HZHR_z(\\pi/2)$"
   ]
  },
  {
   "cell_type": "code",
   "execution_count": 28,
   "id": "46b8bc82-80c7-4b9b-8bc4-8fb01d888cac",
   "metadata": {},
   "outputs": [
    {
     "name": "stdout",
     "output_type": "stream",
     "text": [
      "[ 8.+1.28039554e-17j  4.-2.56079107e-17j -8.-1.28039554e-17j\n",
      " -4.+2.56079107e-17j]\n"
     ]
    }
   ],
   "source": [
    "### Eigenvalues of L #####\n",
    "X = np.array([[0, 1],[1, 0]])\n",
    "Y = 1j*np.array([[0, -1],[1, 0]])\n",
    "I = np.array([[1, 0],[0, 1]])\n",
    "\n",
    "L = 2*np.kron(X,I) + 6*np.kron(I,Y)\n",
    "print(np.linalg.eig(L)[0])"
   ]
  },
  {
   "cell_type": "code",
   "execution_count": 29,
   "id": "c43c441c-9c8c-48d2-8eaf-1fdf4937a15a",
   "metadata": {},
   "outputs": [],
   "source": [
    "def var_form_ryrz(params, depth):\n",
    "    var_circ = QuantumCircuit(2,4)\n",
    "    var_circ.ry(params[0], 0)\n",
    "    var_circ.rz(params[1], 0)\n",
    "    var_circ.ry(params[2], 1)\n",
    "    var_circ.rz(params[3], 1)    \n",
    "           \n",
    "    for jj in range(depth):\n",
    "        var_circ.cx(0, 1)\n",
    "        var_circ.ry(params[0], 0)\n",
    "        var_circ.rz(params[1], 0)\n",
    "        var_circ.ry(params[2], 1)\n",
    "        var_circ.rz(params[3], 1) \n",
    "            \n",
    "    return var_circ  "
   ]
  },
  {
   "cell_type": "code",
   "execution_count": 30,
   "id": "a9e8ddf9-91c6-46c1-b468-a29167215923",
   "metadata": {},
   "outputs": [
    {
     "data": {
      "image/png": "[encoded data removed]",
      "text/plain": [
       "<Figure size 808.852x204.68 with 1 Axes>"
      ]
     },
     "execution_count": 30,
     "metadata": {},
     "output_type": "execute_result"
    }
   ],
   "source": [
    "params = np.random.rand(4)\n",
    "var_circ = var_form_ryrz(params, 1)\n",
    "var_circ.h(0)\n",
    "var_circ.measure([0,1],[0,1])\n",
    "var_circ.barrier([0,1])\n",
    "var_circ.rz(np.pi/2,1)\n",
    "var_circ.h(1)  \n",
    "var_circ.measure([0,1],[2,3])\n",
    "var_circ.draw('mpl')"
   ]
  },
  {
   "cell_type": "code",
   "execution_count": 31,
   "id": "4d2e2f9a-4e8b-44e7-a059-6edf2cb421a6",
   "metadata": {},
   "outputs": [],
   "source": [
    "from qiskit.result import marginal_counts\n",
    "def expectation_function4(params, num_shots = 10000):\n",
    "    var_circ = var_form_ryrz(params, 1)\n",
    "    \n",
    "    #### XI measurement #####\n",
    "    XI_IY_meas = var_circ.copy()\n",
    "    XI_IY_meas.h(0)\n",
    "    XI_IY_meas.measure([0,1],[0,1])\n",
    "    XI_IY_meas.barrier([0,1])\n",
    "    \n",
    "    #### IY measurement #####\n",
    "    XI_IY_meas.rz(np.pi/2,1)\n",
    "    XI_IY_meas.h(1)  \n",
    "    XI_IY_meas.measure([0,1],[2,3])\n",
    "    \n",
    "    job = execute(XI_IY_meas, backend = simulator, shots = num_shots)\n",
    "    counts1 = marginal_counts(job.result(), indices=[0,1]).get_counts()\n",
    "    counts2 = marginal_counts(job.result(), indices=[2,3]).get_counts()\n",
    "        \n",
    "    list_bin = ['00','01','10','11']\n",
    "    for jj in list_bin:\n",
    "        if jj not in counts1:\n",
    "            counts1[jj] = 0\n",
    "            \n",
    "    total_counts = counts1['00'] + counts1['11'] + counts1['10'] + counts1['01']\n",
    "    xi = counts1['00'] - counts1['11'] - counts1['10'] + counts1['01'] \n",
    "    xi = xi / total_counts\n",
    "    \n",
    "#      ## IY measurement #####\n",
    "#     IYmeas = var_circ.copy()\n",
    "#     IYmeas.rz(np.pi/2,1)\n",
    "#     IYmeas.h(1)\n",
    "#     IYmeas.measure_all()\n",
    "#     result = execute(IYmeas, backend = simulator, shots = num_shots).result()\n",
    "#     counts = result.get_counts(XImeas)\n",
    "    \n",
    "    for jj in list_bin:\n",
    "        if jj not in counts2:\n",
    "            counts2[jj] = 0\n",
    "\n",
    "    total_counts = counts2['00'] + counts2['11'] + counts2['10'] + counts2['01']\n",
    "    iy = counts2['00'] - counts2['11'] + counts2['10'] - counts2['01'] \n",
    "    iy = iy / total_counts   \n",
    "    \n",
    "\n",
    "    cost = 2*xi + 6*iy\n",
    "    return cost"
   ]
  },
  {
   "cell_type": "code",
   "execution_count": 32,
   "id": "81795d36-3481-4774-9baf-6f43869e468f",
   "metadata": {},
   "outputs": [
    {
     "name": "stdout",
     "output_type": "stream",
     "text": [
      "(array([ 2.21472157,  0.75979529,  1.62571615, -0.02973222]), -7.8428, 56)\n",
      "-7.876\n"
     ]
    }
   ],
   "source": [
    "optimizer = COBYLA(maxiter=100, tol=0.0001)\n",
    "params = np.random.rand(4)\n",
    "ret = optimizer.optimize(num_vars=4, objective_function=expectation_function4, initial_point=params)\n",
    "print(ret)\n",
    "exp = expectation_function4(ret[0])\n",
    "print(exp)"
   ]
  },
  {
   "cell_type": "code",
   "execution_count": null,
   "id": "2de37b48-f30d-48c5-bcb8-490ef568c7cb",
   "metadata": {},
   "outputs": [],
   "source": []
  }
 ],
 "metadata": {
  "kernelspec": {
   "display_name": "Python 3 (ipykernel)",
   "language": "python",
   "name": "python3"
  },
  "language_info": {
   "codemirror_mode": {
    "name": "ipython",
    "version": 3
   },
   "file_extension": ".py",
   "mimetype": "text/x-python",
   "name": "python",
   "nbconvert_exporter": "python",
   "pygments_lexer": "ipython3",
   "version": "3.8.13"
  },
  "widgets": {
   "application/vnd.jupyter.widget-state+json": {
    "state": {},
    "version_major": 2,
    "version_minor": 0
   }
  }
 },
 "nbformat": 4,
 "nbformat_minor": 5
}
